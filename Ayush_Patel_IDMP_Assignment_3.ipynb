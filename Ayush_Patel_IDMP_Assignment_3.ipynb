{
 "cells": [
  {
   "cell_type": "markdown",
   "id": "51c5ca91",
   "metadata": {},
   "source": [
    "## Problem_Set_3\n",
    "## Name : Ayush Patel\n",
    "## NUID: 002765119\n"
   ]
  },
  {
   "cell_type": "markdown",
   "id": "bb0b5b80",
   "metadata": {},
   "source": [
    "### Q1"
   ]
  },
  {
   "cell_type": "code",
   "execution_count": 1,
   "id": "10aad7c5",
   "metadata": {},
   "outputs": [],
   "source": [
    "import pandas as pd\n",
    "from bs4 import BeautifulSoup\n",
    "import requests\n",
    "import re\n",
    "import json\n",
    "import requests as r"
   ]
  },
  {
   "cell_type": "code",
   "execution_count": 2,
   "id": "12ae9544",
   "metadata": {},
   "outputs": [],
   "source": [
    "url = 'https://www.imdb.com/chart/top'\n",
    "page = requests.get(url)\n",
    "soup = BeautifulSoup(page.text, 'html.parser')"
   ]
  },
  {
   "cell_type": "code",
   "execution_count": 3,
   "id": "4f724f69",
   "metadata": {},
   "outputs": [],
   "source": [
    "table = soup.find_all('table',{\"data-caller-name\":\"chart-top250movie\"})"
   ]
  },
  {
   "cell_type": "code",
   "execution_count": 4,
   "id": "dbb97ecd",
   "metadata": {},
   "outputs": [],
   "source": [
    "movie_dictionary = {'Title':[], 'Director':[], 'Actors':[], 'Release_Year':[], 'IMDB_Rating':[]}"
   ]
  },
  {
   "cell_type": "code",
   "execution_count": 5,
   "id": "24926124",
   "metadata": {},
   "outputs": [],
   "source": [
    "for text in table[0].find_all(\"tr\"):\n",
    "    \n",
    "    try:\n",
    "        movie_name = \" \".join(x for x in text.find('td', class_ = 'titleColumn').text.split(\"\\n\")[2].split(\" \") if x!=\"\")\n",
    "        movie_dictionary[\"Title\"].append(movie_name)\n",
    "        \n",
    "        director = text.find('td', class_ = 'titleColumn').find('a').attrs['title'].split(\" (dir.), \")[0]\n",
    "        movie_dictionary[\"Director\"].append(director)\n",
    "        \n",
    "        actors = [text.find('td', class_ = 'titleColumn').find('a').attrs['title'].split(\" (dir.), \")[1]]\n",
    "        movie_dictionary[\"Actors\"].append(actors)        \n",
    "        \n",
    "        release_year = text.find('td', class_ = 'titleColumn').span.text.replace('(','').replace(')','')\n",
    "        movie_dictionary[\"Release_Year\"].append(release_year)\n",
    "        \n",
    "        rating = text.find('td', class_ = 'ratingColumn imdbRating').strong.text\n",
    "        movie_dictionary['IMDB_Rating'].append(rating)\n",
    "    except:\n",
    "        pass"
   ]
  },
  {
   "cell_type": "code",
   "execution_count": 6,
   "id": "0d778ac3",
   "metadata": {},
   "outputs": [
    {
     "data": {
      "text/html": [
       "<div>\n",
       "<style scoped>\n",
       "    .dataframe tbody tr th:only-of-type {\n",
       "        vertical-align: middle;\n",
       "    }\n",
       "\n",
       "    .dataframe tbody tr th {\n",
       "        vertical-align: top;\n",
       "    }\n",
       "\n",
       "    .dataframe thead th {\n",
       "        text-align: right;\n",
       "    }\n",
       "</style>\n",
       "<table border=\"1\" class=\"dataframe\">\n",
       "  <thead>\n",
       "    <tr style=\"text-align: right;\">\n",
       "      <th></th>\n",
       "      <th>Title</th>\n",
       "      <th>Director</th>\n",
       "      <th>Actors</th>\n",
       "      <th>Release_Year</th>\n",
       "      <th>IMDB_Rating</th>\n",
       "    </tr>\n",
       "  </thead>\n",
       "  <tbody>\n",
       "    <tr>\n",
       "      <th>0</th>\n",
       "      <td>The Shawshank Redemption</td>\n",
       "      <td>Frank Darabont</td>\n",
       "      <td>[Tim Robbins, Morgan Freeman]</td>\n",
       "      <td>1994</td>\n",
       "      <td>9.2</td>\n",
       "    </tr>\n",
       "    <tr>\n",
       "      <th>1</th>\n",
       "      <td>The Godfather</td>\n",
       "      <td>Francis Ford Coppola</td>\n",
       "      <td>[Marlon Brando, Al Pacino]</td>\n",
       "      <td>1972</td>\n",
       "      <td>9.2</td>\n",
       "    </tr>\n",
       "    <tr>\n",
       "      <th>2</th>\n",
       "      <td>The Dark Knight</td>\n",
       "      <td>Christopher Nolan</td>\n",
       "      <td>[Christian Bale, Heath Ledger]</td>\n",
       "      <td>2008</td>\n",
       "      <td>9.0</td>\n",
       "    </tr>\n",
       "    <tr>\n",
       "      <th>3</th>\n",
       "      <td>The Godfather Part II</td>\n",
       "      <td>Francis Ford Coppola</td>\n",
       "      <td>[Al Pacino, Robert De Niro]</td>\n",
       "      <td>1974</td>\n",
       "      <td>9.0</td>\n",
       "    </tr>\n",
       "    <tr>\n",
       "      <th>4</th>\n",
       "      <td>12 Angry Men</td>\n",
       "      <td>Sidney Lumet</td>\n",
       "      <td>[Henry Fonda, Lee J. Cobb]</td>\n",
       "      <td>1957</td>\n",
       "      <td>9.0</td>\n",
       "    </tr>\n",
       "    <tr>\n",
       "      <th>...</th>\n",
       "      <td>...</td>\n",
       "      <td>...</td>\n",
       "      <td>...</td>\n",
       "      <td>...</td>\n",
       "      <td>...</td>\n",
       "    </tr>\n",
       "    <tr>\n",
       "      <th>245</th>\n",
       "      <td>Dersu Uzala</td>\n",
       "      <td>Akira Kurosawa</td>\n",
       "      <td>[Maksim Munzuk, Yuriy Solomin]</td>\n",
       "      <td>1975</td>\n",
       "      <td>8.0</td>\n",
       "    </tr>\n",
       "    <tr>\n",
       "      <th>246</th>\n",
       "      <td>The Help</td>\n",
       "      <td>Tate Taylor</td>\n",
       "      <td>[Viola Davis, Emma Stone]</td>\n",
       "      <td>2011</td>\n",
       "      <td>8.0</td>\n",
       "    </tr>\n",
       "    <tr>\n",
       "      <th>247</th>\n",
       "      <td>Aladdin</td>\n",
       "      <td>Ron Clements</td>\n",
       "      <td>[Scott Weinger, Robin Williams]</td>\n",
       "      <td>1992</td>\n",
       "      <td>8.0</td>\n",
       "    </tr>\n",
       "    <tr>\n",
       "      <th>248</th>\n",
       "      <td>Gandhi</td>\n",
       "      <td>Richard Attenborough</td>\n",
       "      <td>[Ben Kingsley, John Gielgud]</td>\n",
       "      <td>1982</td>\n",
       "      <td>8.0</td>\n",
       "    </tr>\n",
       "    <tr>\n",
       "      <th>249</th>\n",
       "      <td>The Iron Giant</td>\n",
       "      <td>Brad Bird</td>\n",
       "      <td>[Eli Marienthal, Harry Connick Jr.]</td>\n",
       "      <td>1999</td>\n",
       "      <td>8.0</td>\n",
       "    </tr>\n",
       "  </tbody>\n",
       "</table>\n",
       "<p>250 rows × 5 columns</p>\n",
       "</div>"
      ],
      "text/plain": [
       "                        Title              Director  \\\n",
       "0    The Shawshank Redemption        Frank Darabont   \n",
       "1               The Godfather  Francis Ford Coppola   \n",
       "2             The Dark Knight     Christopher Nolan   \n",
       "3       The Godfather Part II  Francis Ford Coppola   \n",
       "4                12 Angry Men          Sidney Lumet   \n",
       "..                        ...                   ...   \n",
       "245               Dersu Uzala        Akira Kurosawa   \n",
       "246                  The Help           Tate Taylor   \n",
       "247                   Aladdin          Ron Clements   \n",
       "248                    Gandhi  Richard Attenborough   \n",
       "249            The Iron Giant             Brad Bird   \n",
       "\n",
       "                                  Actors Release_Year IMDB_Rating  \n",
       "0          [Tim Robbins, Morgan Freeman]         1994         9.2  \n",
       "1             [Marlon Brando, Al Pacino]         1972         9.2  \n",
       "2         [Christian Bale, Heath Ledger]         2008         9.0  \n",
       "3            [Al Pacino, Robert De Niro]         1974         9.0  \n",
       "4             [Henry Fonda, Lee J. Cobb]         1957         9.0  \n",
       "..                                   ...          ...         ...  \n",
       "245       [Maksim Munzuk, Yuriy Solomin]         1975         8.0  \n",
       "246            [Viola Davis, Emma Stone]         2011         8.0  \n",
       "247      [Scott Weinger, Robin Williams]         1992         8.0  \n",
       "248         [Ben Kingsley, John Gielgud]         1982         8.0  \n",
       "249  [Eli Marienthal, Harry Connick Jr.]         1999         8.0  \n",
       "\n",
       "[250 rows x 5 columns]"
      ]
     },
     "metadata": {},
     "output_type": "display_data"
    }
   ],
   "source": [
    "movie_dictionary = pd.DataFrame(movie_dictionary)\n",
    "display(movie_dictionary)"
   ]
  },
  {
   "cell_type": "markdown",
   "id": "5937b9bc",
   "metadata": {},
   "source": [
    "### Q2"
   ]
  },
  {
   "cell_type": "markdown",
   "id": "418ca6c7",
   "metadata": {},
   "source": [
    "#### 1)"
   ]
  },
  {
   "cell_type": "code",
   "execution_count": 7,
   "id": "663e9637",
   "metadata": {},
   "outputs": [],
   "source": [
    "from xml.etree import ElementTree as ET"
   ]
  },
  {
   "cell_type": "code",
   "execution_count": 8,
   "id": "d6a10c9b",
   "metadata": {},
   "outputs": [],
   "source": [
    "file_name = 'recipes.xml'\n",
    "\n",
    "dom = ET.parse(file_name)"
   ]
  },
  {
   "cell_type": "code",
   "execution_count": 9,
   "id": "c14d6562",
   "metadata": {},
   "outputs": [],
   "source": [
    "recipe = dom.findall('recipe')"
   ]
  },
  {
   "cell_type": "code",
   "execution_count": 10,
   "id": "cae42dec",
   "metadata": {},
   "outputs": [],
   "source": [
    "recipe_dictionary = {'Title': [], 'Ingredients':[], 'Calories': []}"
   ]
  },
  {
   "cell_type": "code",
   "execution_count": 11,
   "id": "0a0ea809",
   "metadata": {},
   "outputs": [],
   "source": [
    "for r in recipe:\n",
    "    try:\n",
    "        title = r.find('title').text\n",
    "        recipe_dictionary['Title'].append(title)\n",
    "\n",
    "        ing = [x.get('name') for x in r.findall('ingredient')]\n",
    "        recipe_dictionary['Ingredients'].append(ing)\n",
    "\n",
    "        cal = r.find('nutrition').get('calories')\n",
    "        recipe_dictionary['Calories'].append(cal)\n",
    "    except:\n",
    "        pass"
   ]
  },
  {
   "cell_type": "code",
   "execution_count": 12,
   "id": "92ca143c",
   "metadata": {},
   "outputs": [
    {
     "data": {
      "text/html": [
       "<div>\n",
       "<style scoped>\n",
       "    .dataframe tbody tr th:only-of-type {\n",
       "        vertical-align: middle;\n",
       "    }\n",
       "\n",
       "    .dataframe tbody tr th {\n",
       "        vertical-align: top;\n",
       "    }\n",
       "\n",
       "    .dataframe thead th {\n",
       "        text-align: right;\n",
       "    }\n",
       "</style>\n",
       "<table border=\"1\" class=\"dataframe\">\n",
       "  <thead>\n",
       "    <tr style=\"text-align: right;\">\n",
       "      <th></th>\n",
       "      <th>Title</th>\n",
       "      <th>Ingredients</th>\n",
       "      <th>Calories</th>\n",
       "    </tr>\n",
       "  </thead>\n",
       "  <tbody>\n",
       "    <tr>\n",
       "      <th>0</th>\n",
       "      <td>Beef Parmesan with Garlic Angel Hair Pasta</td>\n",
       "      <td>[beef cube steak, onion, sliced into thin ring...</td>\n",
       "      <td>1167</td>\n",
       "    </tr>\n",
       "    <tr>\n",
       "      <th>1</th>\n",
       "      <td>Ricotta Pie</td>\n",
       "      <td>[filling, dough, milk]</td>\n",
       "      <td>349</td>\n",
       "    </tr>\n",
       "    <tr>\n",
       "      <th>2</th>\n",
       "      <td>Linguine Pescadoro</td>\n",
       "      <td>[linguini pasta, sauce]</td>\n",
       "      <td>532</td>\n",
       "    </tr>\n",
       "    <tr>\n",
       "      <th>3</th>\n",
       "      <td>Zuppa Inglese</td>\n",
       "      <td>[egg yolks, milk, Savoiardi biscuits, sugar, A...</td>\n",
       "      <td>612</td>\n",
       "    </tr>\n",
       "    <tr>\n",
       "      <th>4</th>\n",
       "      <td>Cailles en Sarcophages</td>\n",
       "      <td>[pastry, filling, package phyllo dough, egg wh...</td>\n",
       "      <td>8892</td>\n",
       "    </tr>\n",
       "  </tbody>\n",
       "</table>\n",
       "</div>"
      ],
      "text/plain": [
       "                                        Title  \\\n",
       "0  Beef Parmesan with Garlic Angel Hair Pasta   \n",
       "1                                 Ricotta Pie   \n",
       "2                          Linguine Pescadoro   \n",
       "3                               Zuppa Inglese   \n",
       "4                      Cailles en Sarcophages   \n",
       "\n",
       "                                         Ingredients Calories  \n",
       "0  [beef cube steak, onion, sliced into thin ring...     1167  \n",
       "1                             [filling, dough, milk]      349  \n",
       "2                            [linguini pasta, sauce]      532  \n",
       "3  [egg yolks, milk, Savoiardi biscuits, sugar, A...      612  \n",
       "4  [pastry, filling, package phyllo dough, egg wh...     8892  "
      ]
     },
     "execution_count": 12,
     "metadata": {},
     "output_type": "execute_result"
    }
   ],
   "source": [
    "recipe_dictionary = pd.DataFrame(recipe_dictionary)\n",
    "recipe_dictionary"
   ]
  },
  {
   "cell_type": "markdown",
   "id": "e5a0c2c2",
   "metadata": {},
   "source": [
    "#### 2)"
   ]
  },
  {
   "cell_type": "markdown",
   "id": "e866b04b",
   "metadata": {},
   "source": [
    "a)"
   ]
  },
  {
   "cell_type": "code",
   "execution_count": 13,
   "id": "4ba34b99",
   "metadata": {},
   "outputs": [],
   "source": [
    "from lxml import etree\n",
    "tree = etree.parse('recipes.xml')\n"
   ]
  },
  {
   "cell_type": "code",
   "execution_count": 14,
   "id": "8fc0947a",
   "metadata": {},
   "outputs": [
    {
     "name": "stdout",
     "output_type": "stream",
     "text": [
      "Beef Parmesan with Garlic Angel Hair Pasta\n",
      "Ricotta Pie\n",
      "Linguine Pescadoro\n",
      "Zuppa Inglese\n",
      "Cailles en Sarcophages\n"
     ]
    }
   ],
   "source": [
    "results = tree.xpath(\"/collection/recipe/title\")\n",
    "\n",
    "for result in results:\n",
    "    print(result.text)"
   ]
  },
  {
   "cell_type": "markdown",
   "id": "b9b5c718",
   "metadata": {},
   "source": [
    "b)"
   ]
  },
  {
   "cell_type": "code",
   "execution_count": 15,
   "id": "c3da60bd",
   "metadata": {},
   "outputs": [
    {
     "name": "stdout",
     "output_type": "stream",
     "text": [
      "Beef Parmesan with Garlic Angel Hair Pasta\n"
     ]
    }
   ],
   "source": [
    "results = tree.xpath(\"/collection/recipe[ingredient[@name = 'olive oil']]/title\")\n",
    "\n",
    "for result in results:\n",
    "    print(result.text)"
   ]
  },
  {
   "cell_type": "markdown",
   "id": "34c80633",
   "metadata": {},
   "source": [
    "c)"
   ]
  },
  {
   "cell_type": "code",
   "execution_count": 16,
   "id": "30e730e5",
   "metadata": {},
   "outputs": [
    {
     "name": "stdout",
     "output_type": "stream",
     "text": [
      "Ricotta Pie\n"
     ]
    }
   ],
   "source": [
    "results = tree.xpath(\"/collection/recipe[nutrition[@calories < 500 ]]/title\")\n",
    "\n",
    "for result in results:\n",
    "    print(result.text)"
   ]
  },
  {
   "cell_type": "markdown",
   "id": "e2042ba4",
   "metadata": {},
   "source": [
    "d)"
   ]
  },
  {
   "cell_type": "code",
   "execution_count": 17,
   "id": "54f7eb98",
   "metadata": {},
   "outputs": [
    {
     "name": "stdout",
     "output_type": "stream",
     "text": [
      "0.75\n"
     ]
    }
   ],
   "source": [
    "results = tree.xpath(\"/collection/recipe[title = 'Zuppa Inglese' ]/ingredient[@name = 'sugar']/@amount\")\n",
    "\n",
    "print(results[0])"
   ]
  },
  {
   "cell_type": "markdown",
   "id": "0bd83af4",
   "metadata": {},
   "source": [
    "e)"
   ]
  },
  {
   "cell_type": "code",
   "execution_count": 18,
   "id": "9488d79f",
   "metadata": {},
   "outputs": [
    {
     "name": "stdout",
     "output_type": "stream",
     "text": [
      "Beef Parmesan with Garlic Angel Hair Pasta\n",
      "Ricotta Pie\n"
     ]
    }
   ],
   "source": [
    "results = tree.xpath(\"/collection/recipe[count(preparation/step)=4]/title\")\n",
    "\n",
    "for result in results:\n",
    "    print(result.text)"
   ]
  },
  {
   "cell_type": "markdown",
   "id": "ce606a20",
   "metadata": {},
   "source": [
    "f)"
   ]
  },
  {
   "cell_type": "code",
   "execution_count": 19,
   "id": "1e9856e8",
   "metadata": {
    "scrolled": true
   },
   "outputs": [
    {
     "name": "stdout",
     "output_type": "stream",
     "text": [
      "ricotta cheese\n",
      "eggs\n",
      "white sugar\n",
      "vanilla extract\n",
      "semisweet chocolate chips\n",
      "flour\n",
      "baking powder\n",
      "white sugar\n",
      "shortening\n",
      "eggs, lightly beaten\n",
      "vanilla extract\n",
      "olive oil\n",
      "minced cloves of garlic\n",
      "Italian seasoning\n",
      "dried thyme\n",
      "crushed red pepper flakes\n",
      "crushed tomatoes\n",
      "black olives, drained\n",
      "whole baby clams\n",
      "minced clams, with juice\n",
      "small salad shrimp\n",
      "scallops\n",
      "lemon zest\n",
      "salt\n",
      "ground black pepper\n",
      "chilled unsalted butter\n",
      "flour\n",
      "salt\n",
      "ice water\n",
      "baked chicken\n",
      "marinated chicken\n",
      "small chickens, cut up\n",
      "Herbes de Provence\n",
      "dry white wine\n",
      "orange juice\n",
      "minced garlic\n",
      "truffle oil\n",
      "stock\n",
      "chicken wings, giblets, and kidney\n",
      "onions, peeled\n",
      "carrots, peeled and cut lengthwise\n",
      "celery, cut lengthwise\n",
      "bay leaf\n",
      "small bunch parsley\n",
      "whole peppercorns\n",
      "salt\n",
      "sauteed mushrooms\n",
      "white button mushrooms\n",
      "butter\n",
      "dry white wine\n",
      "minced garlic\n",
      "minced shallots\n",
      "sauce\n",
      "chicken juices\n",
      "mushroom juices\n",
      "sherry\n",
      "flour\n",
      "butter\n"
     ]
    }
   ],
   "source": [
    "results = tree.xpath(\"/collection/recipe/ingredient[count(ingredient) > 0]//ingredient/@name\")\n",
    "\n",
    "for result in results:\n",
    "    print(result)"
   ]
  },
  {
   "cell_type": "markdown",
   "id": "fc7573b3",
   "metadata": {},
   "source": [
    "g)"
   ]
  },
  {
   "cell_type": "code",
   "execution_count": 20,
   "id": "d7ddf0b0",
   "metadata": {},
   "outputs": [
    {
     "name": "stdout",
     "output_type": "stream",
     "text": [
      "filling\n",
      "dough\n",
      "sauce\n",
      "pastry\n",
      "filling\n",
      "baked chicken\n",
      "marinated chicken\n",
      "stock\n",
      "sauteed mushrooms\n",
      "sauce\n"
     ]
    }
   ],
   "source": [
    "results = tree.xpath(\"/collection/recipe//ingredient[count(ingredient)>1]/@name\")\n",
    "for result in results:\n",
    "    print(result)"
   ]
  },
  {
   "cell_type": "markdown",
   "id": "86b8916f",
   "metadata": {},
   "source": [
    "h)"
   ]
  },
  {
   "cell_type": "code",
   "execution_count": 21,
   "id": "c9d81658",
   "metadata": {},
   "outputs": [
    {
     "name": "stdout",
     "output_type": "stream",
     "text": [
      "beef cube steak\n",
      "onion, sliced into thin rings\n",
      "green bell pepper, sliced in rings\n",
      "filling\n",
      "dough\n",
      "milk\n",
      "linguini pasta\n",
      "sauce\n",
      "egg yolks\n",
      "milk\n",
      "Savoiardi biscuits\n",
      "pastry\n",
      "filling\n",
      "package phyllo dough\n"
     ]
    }
   ],
   "source": [
    "results = tree.xpath(\"/collection/recipe/ingredient[position() <= 3]/@name\")\n",
    "\n",
    "for result in results:\n",
    "    print(result)"
   ]
  },
  {
   "cell_type": "markdown",
   "id": "ee9d196a",
   "metadata": {},
   "source": [
    "### Q3"
   ]
  },
  {
   "cell_type": "code",
   "execution_count": 22,
   "id": "a5790fd5",
   "metadata": {},
   "outputs": [],
   "source": [
    "key = \"JmGxupzVub3kqRPUjETtMwOQMJscG0dG\""
   ]
  },
  {
   "cell_type": "code",
   "execution_count": 23,
   "id": "9c28ea29",
   "metadata": {},
   "outputs": [
    {
     "name": "stdout",
     "output_type": "stream",
     "text": [
      "Enter Origin : Northeastern University, Boston\n",
      "Enter Final Destination : Faneuil Hall Marketplace\n"
     ]
    }
   ],
   "source": [
    "source = input(\"Enter Origin : \")\n",
    "destination = input(\"Enter Final Destination : \")"
   ]
  },
  {
   "cell_type": "code",
   "execution_count": 24,
   "id": "70a39e2a",
   "metadata": {},
   "outputs": [],
   "source": [
    "url = \"http://www.mapquestapi.com/directions/v2/route?key={}&from={}VA&to={}\".format(key, source, destination)"
   ]
  },
  {
   "cell_type": "code",
   "execution_count": 25,
   "id": "54788d58",
   "metadata": {},
   "outputs": [],
   "source": [
    "result = requests.get(url)"
   ]
  },
  {
   "cell_type": "code",
   "execution_count": 26,
   "id": "1663ef5e",
   "metadata": {},
   "outputs": [],
   "source": [
    "json_response = result.json()"
   ]
  },
  {
   "cell_type": "code",
   "execution_count": 27,
   "id": "76cd0245",
   "metadata": {},
   "outputs": [],
   "source": [
    "dictionary = { \"Instruction\" : [] , \"Distance(mi)\" : [] , \"Time(s)\" : []}"
   ]
  },
  {
   "cell_type": "code",
   "execution_count": 28,
   "id": "64344927",
   "metadata": {},
   "outputs": [],
   "source": [
    "for leg_information in json_response['route']['legs']:\n",
    "        for maneuver in leg_information['maneuvers']:\n",
    "            dictionary['Instruction'].append(maneuver[\"narrative\"])\n",
    "            dictionary['Distance(mi)'].append(maneuver[\"distance\"])\n",
    "            dictionary['Time(s)'].append(maneuver[\"time\"])"
   ]
  },
  {
   "cell_type": "code",
   "execution_count": 29,
   "id": "b5fd29f7",
   "metadata": {},
   "outputs": [],
   "source": [
    "dictionary = pd.DataFrame(dictionary)"
   ]
  },
  {
   "cell_type": "code",
   "execution_count": 30,
   "id": "cb9b4322",
   "metadata": {},
   "outputs": [
    {
     "data": {
      "text/html": [
       "<div>\n",
       "<style scoped>\n",
       "    .dataframe tbody tr th:only-of-type {\n",
       "        vertical-align: middle;\n",
       "    }\n",
       "\n",
       "    .dataframe tbody tr th {\n",
       "        vertical-align: top;\n",
       "    }\n",
       "\n",
       "    .dataframe thead th {\n",
       "        text-align: right;\n",
       "    }\n",
       "</style>\n",
       "<table border=\"1\" class=\"dataframe\">\n",
       "  <thead>\n",
       "    <tr style=\"text-align: right;\">\n",
       "      <th></th>\n",
       "      <th>Instruction</th>\n",
       "      <th>Distance(mi)</th>\n",
       "      <th>Time(s)</th>\n",
       "    </tr>\n",
       "  </thead>\n",
       "  <tbody>\n",
       "    <tr>\n",
       "      <th>0</th>\n",
       "      <td>Head toward Gainsborough St on Huntington Ave ...</td>\n",
       "      <td>0.1839</td>\n",
       "      <td>37</td>\n",
       "    </tr>\n",
       "    <tr>\n",
       "      <th>1</th>\n",
       "      <td>Keep right onto Huntington Ave (RT-9). Go for ...</td>\n",
       "      <td>0.0926</td>\n",
       "      <td>43</td>\n",
       "    </tr>\n",
       "    <tr>\n",
       "      <th>2</th>\n",
       "      <td>Turn left onto Massachusetts Ave toward Cambri...</td>\n",
       "      <td>0.0628</td>\n",
       "      <td>25</td>\n",
       "    </tr>\n",
       "    <tr>\n",
       "      <th>3</th>\n",
       "      <td>Turn slightly left onto Westland Ave. Go for 0...</td>\n",
       "      <td>0.2746</td>\n",
       "      <td>71</td>\n",
       "    </tr>\n",
       "    <tr>\n",
       "      <th>4</th>\n",
       "      <td>Continue on Fenway. Go for 0.1 mi.</td>\n",
       "      <td>0.1404</td>\n",
       "      <td>29</td>\n",
       "    </tr>\n",
       "    <tr>\n",
       "      <th>5</th>\n",
       "      <td>Take ramp onto Storrow Dr toward Newton/Downto...</td>\n",
       "      <td>1.2005</td>\n",
       "      <td>154</td>\n",
       "    </tr>\n",
       "    <tr>\n",
       "      <th>6</th>\n",
       "      <td>Keep left onto Storrow Dr. Go for 0.4 mi.</td>\n",
       "      <td>0.4374</td>\n",
       "      <td>57</td>\n",
       "    </tr>\n",
       "    <tr>\n",
       "      <th>7</th>\n",
       "      <td>Keep left onto Storrow Dr (RT-28) toward I-93/...</td>\n",
       "      <td>0.3461</td>\n",
       "      <td>42</td>\n",
       "    </tr>\n",
       "    <tr>\n",
       "      <th>8</th>\n",
       "      <td>Keep right onto Storrow Dr (RT-28 N) toward Lo...</td>\n",
       "      <td>0.1603</td>\n",
       "      <td>36</td>\n",
       "    </tr>\n",
       "    <tr>\n",
       "      <th>9</th>\n",
       "      <td>Turn right and take ramp onto I-93 S toward Qu...</td>\n",
       "      <td>0.7357</td>\n",
       "      <td>94</td>\n",
       "    </tr>\n",
       "    <tr>\n",
       "      <th>10</th>\n",
       "      <td>Take exit 17A-B toward Gov't Ctr. Go for 0.3 mi.</td>\n",
       "      <td>0.3026</td>\n",
       "      <td>50</td>\n",
       "    </tr>\n",
       "    <tr>\n",
       "      <th>11</th>\n",
       "      <td>Turn left onto John F Fitzgerald Surface Rd. G...</td>\n",
       "      <td>0.1106</td>\n",
       "      <td>28</td>\n",
       "    </tr>\n",
       "    <tr>\n",
       "      <th>12</th>\n",
       "      <td>Turn right onto State St. Go for 0.2 mi.</td>\n",
       "      <td>0.1560</td>\n",
       "      <td>44</td>\n",
       "    </tr>\n",
       "    <tr>\n",
       "      <th>13</th>\n",
       "      <td>Turn right onto Merchants Row. Go for 187 ft.</td>\n",
       "      <td>0.0354</td>\n",
       "      <td>8</td>\n",
       "    </tr>\n",
       "    <tr>\n",
       "      <th>14</th>\n",
       "      <td>Arrive at Merchants Row. Your destination is o...</td>\n",
       "      <td>0.0000</td>\n",
       "      <td>0</td>\n",
       "    </tr>\n",
       "  </tbody>\n",
       "</table>\n",
       "</div>"
      ],
      "text/plain": [
       "                                          Instruction  Distance(mi)  Time(s)\n",
       "0   Head toward Gainsborough St on Huntington Ave ...        0.1839       37\n",
       "1   Keep right onto Huntington Ave (RT-9). Go for ...        0.0926       43\n",
       "2   Turn left onto Massachusetts Ave toward Cambri...        0.0628       25\n",
       "3   Turn slightly left onto Westland Ave. Go for 0...        0.2746       71\n",
       "4                  Continue on Fenway. Go for 0.1 mi.        0.1404       29\n",
       "5   Take ramp onto Storrow Dr toward Newton/Downto...        1.2005      154\n",
       "6           Keep left onto Storrow Dr. Go for 0.4 mi.        0.4374       57\n",
       "7   Keep left onto Storrow Dr (RT-28) toward I-93/...        0.3461       42\n",
       "8   Keep right onto Storrow Dr (RT-28 N) toward Lo...        0.1603       36\n",
       "9   Turn right and take ramp onto I-93 S toward Qu...        0.7357       94\n",
       "10   Take exit 17A-B toward Gov't Ctr. Go for 0.3 mi.        0.3026       50\n",
       "11  Turn left onto John F Fitzgerald Surface Rd. G...        0.1106       28\n",
       "12           Turn right onto State St. Go for 0.2 mi.        0.1560       44\n",
       "13      Turn right onto Merchants Row. Go for 187 ft.        0.0354        8\n",
       "14  Arrive at Merchants Row. Your destination is o...        0.0000        0"
      ]
     },
     "execution_count": 30,
     "metadata": {},
     "output_type": "execute_result"
    }
   ],
   "source": [
    "dictionary"
   ]
  }
 ],
 "metadata": {
  "kernelspec": {
   "display_name": "Python 3 (ipykernel)",
   "language": "python",
   "name": "python3"
  },
  "language_info": {
   "codemirror_mode": {
    "name": "ipython",
    "version": 3
   },
   "file_extension": ".py",
   "mimetype": "text/x-python",
   "name": "python",
   "nbconvert_exporter": "python",
   "pygments_lexer": "ipython3",
   "version": "3.9.12"
  }
 },
 "nbformat": 4,
 "nbformat_minor": 5
}
